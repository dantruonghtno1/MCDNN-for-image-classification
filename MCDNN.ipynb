{
  "nbformat": 4,
  "nbformat_minor": 0,
  "metadata": {
    "colab": {
      "name": "MCDNN.ipynb",
      "provenance": [],
      "collapsed_sections": [],
      "authorship_tag": "ABX9TyPPpm7XV0mPF6U9N6lKJn+k",
      "include_colab_link": true
    },
    "kernelspec": {
      "display_name": "Python 3",
      "name": "python3"
    },
    "language_info": {
      "name": "python"
    }
  },
  "cells": [
    {
      "cell_type": "markdown",
      "metadata": {
        "id": "view-in-github",
        "colab_type": "text"
      },
      "source": [
        "<a href=\"https://colab.research.google.com/github/dantruonghtno1/MCDNN-for-image-classification/blob/main/MCDNN.ipynb\" target=\"_parent\"><img src=\"https://colab.research.google.com/assets/colab-badge.svg\" alt=\"Open In Colab\"/></a>"
      ]
    },
    {
      "cell_type": "code",
      "metadata": {
        "id": "o7B9BuqYEa84"
      },
      "source": [
        "from torchvision import datasets \n",
        "from torchvision import transforms \n",
        "from torch.utils.data import DataLoader ,random_split\n",
        "import torch\n",
        "from torch import nn\n",
        "import matplotlib.pyplot as plt\n",
        "from collections import OrderedDict\n",
        "import time"
      ],
      "execution_count": 1,
      "outputs": []
    },
    {
      "cell_type": "markdown",
      "metadata": {
        "id": "tpDrI_fFFWRZ"
      },
      "source": [
        "create function to generate dataset at specific size "
      ]
    },
    {
      "cell_type": "code",
      "metadata": {
        "id": "eFnOu_N5FEl2"
      },
      "source": [
        "def get_transform(target_size):\n",
        "    composed = transforms.Compose([transforms.Resize((target_size, target_size)), transforms.ToTensor()])\n",
        "    "
      ],
      "execution_count": 2,
      "outputs": []
    },
    {
      "cell_type": "code",
      "metadata": {
        "id": "HYUf7tw-GDBy"
      },
      "source": [
        "def get_datasets(target_size = 29):\n",
        "    assert target_size<=29 and target_size%2 ==1\n",
        "    composed = transforms.Compose([\n",
        "                                   transforms.Resize((target_size, target_size)),\n",
        "                                   transforms.Pad((29-target_size)//2),\n",
        "                                   transforms.ToTensor()])\n",
        "    \n",
        "    train_dataset = datasets.MNIST(root='./data', train=True, download=True, transform=composed)\n",
        "    train_size = (int)(0.8*len(train_dataset))\n",
        "    valid_size = len(train_dataset) - train_size\n",
        "    train_dataset, valid_dataset = random_split(train_dataset, [train_size, valid_size])\n",
        "\n",
        "    test_dataset = datasets.MNIST(root='./data', train=False, download=True, transform=composed)\n",
        "\n",
        "    return dict(train= train_dataset, valid = valid_dataset, test = test_dataset)\n"
      ],
      "execution_count": 3,
      "outputs": []
    },
    {
      "cell_type": "code",
      "metadata": {
        "id": "QgqSpA4AHKfC"
      },
      "source": [
        "def show_tensor_image(image):\n",
        "    plt.imshow(transforms.ToPILImage()(image), cmap='gray');"
      ],
      "execution_count": 4,
      "outputs": []
    },
    {
      "cell_type": "code",
      "metadata": {
        "id": "S_Nd4SpVHcXI"
      },
      "source": [
        "data = get_datasets(target_size=21)"
      ],
      "execution_count": 5,
      "outputs": []
    },
    {
      "cell_type": "code",
      "metadata": {
        "colab": {
          "base_uri": "https://localhost:8080/"
        },
        "id": "JbmCKmQnHf-C",
        "outputId": "2db609f2-8f99-4a2f-a98f-c8aae7836b03"
      },
      "source": [
        "len(data['train'])"
      ],
      "execution_count": 6,
      "outputs": [
        {
          "output_type": "execute_result",
          "data": {
            "text/plain": [
              "48000"
            ]
          },
          "metadata": {
            "tags": []
          },
          "execution_count": 6
        }
      ]
    },
    {
      "cell_type": "code",
      "metadata": {
        "colab": {
          "base_uri": "https://localhost:8080/"
        },
        "id": "FPpQtFjlHjwN",
        "outputId": "f6e22280-eef4-46a9-8f81-5d00093b737c"
      },
      "source": [
        "len(data['valid'])"
      ],
      "execution_count": 7,
      "outputs": [
        {
          "output_type": "execute_result",
          "data": {
            "text/plain": [
              "12000"
            ]
          },
          "metadata": {
            "tags": []
          },
          "execution_count": 7
        }
      ]
    },
    {
      "cell_type": "code",
      "metadata": {
        "colab": {
          "base_uri": "https://localhost:8080/"
        },
        "id": "jN6lXcXoHlfm",
        "outputId": "6b352c16-78f4-4b22-9328-9951a71347f5"
      },
      "source": [
        "len(data['test'])"
      ],
      "execution_count": 8,
      "outputs": [
        {
          "output_type": "execute_result",
          "data": {
            "text/plain": [
              "10000"
            ]
          },
          "metadata": {
            "tags": []
          },
          "execution_count": 8
        }
      ]
    },
    {
      "cell_type": "code",
      "metadata": {
        "id": "X1xNqP6AHz_5"
      },
      "source": [
        "x, y = data['test'][0]"
      ],
      "execution_count": 9,
      "outputs": []
    },
    {
      "cell_type": "code",
      "metadata": {
        "colab": {
          "base_uri": "https://localhost:8080/",
          "height": 266
        },
        "id": "7KYimYChHoEi",
        "outputId": "d72c997d-507f-4a0f-843b-877f4891c37e"
      },
      "source": [
        "show_tensor_image(x)"
      ],
      "execution_count": 10,
      "outputs": [
        {
          "output_type": "display_data",
          "data": {
            "image/png": "[encoded data removed]",
            "text/plain": [
              "<Figure size 432x288 with 1 Axes>"
            ]
          },
          "metadata": {
            "tags": [],
            "needs_background": "light"
          }
        }
      ]
    },
    {
      "cell_type": "code",
      "metadata": {
        "colab": {
          "base_uri": "https://localhost:8080/"
        },
        "id": "Am14rxPzIZ-f",
        "outputId": "c4e2888c-a3db-46a1-8e61-c2d30064db20"
      },
      "source": [
        "x.shape"
      ],
      "execution_count": 11,
      "outputs": [
        {
          "output_type": "execute_result",
          "data": {
            "text/plain": [
              "torch.Size([1, 29, 29])"
            ]
          },
          "metadata": {
            "tags": []
          },
          "execution_count": 11
        }
      ]
    },
    {
      "cell_type": "markdown",
      "metadata": {
        "id": "aJqlv05BI8yq"
      },
      "source": [
        "create model "
      ]
    },
    {
      "cell_type": "code",
      "metadata": {
        "id": "24ORJ5mGIc3i"
      },
      "source": [
        "class MCDNN(nn.Module):\n",
        "    def __init__(self):\n",
        "        super(MCDNN, self).__init__()\n",
        "        self.net = nn.Sequential(\n",
        "            nn.Conv2d(in_channels=1, out_channels=20, kernel_size=4),\n",
        "            nn.ReLU(),\n",
        "            nn.MaxPool2d(kernel_size=2),\n",
        "            nn.Conv2d(in_channels=20, out_channels=40, kernel_size=5),\n",
        "            nn.ReLU(), \n",
        "            nn.MaxPool2d(kernel_size=3),\n",
        "            nn.Flatten(),\n",
        "            nn.Linear(in_features=40*3*3, out_features=150),\n",
        "            nn.ReLU(),\n",
        "            nn.Linear(in_features=150, out_features=10)\n",
        "        )\n",
        "\n",
        "    def forward(self, x):\n",
        "        return self.net(x)"
      ],
      "execution_count": 12,
      "outputs": []
    },
    {
      "cell_type": "code",
      "metadata": {
        "id": "IlmJ7fWnLLCV"
      },
      "source": [
        "model = MCDNN()"
      ],
      "execution_count": 13,
      "outputs": []
    },
    {
      "cell_type": "code",
      "metadata": {
        "colab": {
          "base_uri": "https://localhost:8080/"
        },
        "id": "hfykdpdyLMw3",
        "outputId": "d389e018-b1da-4a51-8630-12bf0b84ca17"
      },
      "source": [
        "print(model)"
      ],
      "execution_count": 14,
      "outputs": [
        {
          "output_type": "stream",
          "text": [
            "MCDNN(\n",
            "  (net): Sequential(\n",
            "    (0): Conv2d(1, 20, kernel_size=(4, 4), stride=(1, 1))\n",
            "    (1): ReLU()\n",
            "    (2): MaxPool2d(kernel_size=2, stride=2, padding=0, dilation=1, ceil_mode=False)\n",
            "    (3): Conv2d(20, 40, kernel_size=(5, 5), stride=(1, 1))\n",
            "    (4): ReLU()\n",
            "    (5): MaxPool2d(kernel_size=3, stride=3, padding=0, dilation=1, ceil_mode=False)\n",
            "    (6): Flatten(start_dim=1, end_dim=-1)\n",
            "    (7): Linear(in_features=360, out_features=150, bias=True)\n",
            "    (8): ReLU()\n",
            "    (9): Linear(in_features=150, out_features=10, bias=True)\n",
            "  )\n",
            ")\n"
          ],
          "name": "stdout"
        }
      ]
    },
    {
      "cell_type": "code",
      "metadata": {
        "id": "EkUGfdpLLQT5"
      },
      "source": [
        "def initWeight(m):\n",
        "    if (type(m) == nn.Linear) or type(m) == nn.Conv2d:\n",
        "        nn.init.xavier_uniform_(m.weight)\n",
        "        m.bias.data.fill_(0.01)"
      ],
      "execution_count": 15,
      "outputs": []
    },
    {
      "cell_type": "code",
      "metadata": {
        "colab": {
          "base_uri": "https://localhost:8080/"
        },
        "id": "jthohfHVLmPb",
        "outputId": "94d42189-8a03-44ce-f861-0f2c4fa8728b"
      },
      "source": [
        "lossfunc = nn.CrossEntropyLoss()\n",
        "learning_rate = 1e-3\n",
        "optimizer = torch.optim.Adam(model.parameters(), lr = learning_rate)\n",
        "train_loader = DataLoader(dataset=data['train'], batch_size=256, shuffle=True, num_workers=6)\n",
        "valid_loader = DataLoader(dataset=data['valid'], batch_size=128, shuffle=False, num_workers=6)\n",
        "test_loader = DataLoader(dataset = data['test'], batch_size=32, shuffle=False, num_workers=6)"
      ],
      "execution_count": 16,
      "outputs": [
        {
          "output_type": "stream",
          "text": [
            "/usr/local/lib/python3.7/dist-packages/torch/utils/data/dataloader.py:477: UserWarning: This DataLoader will create 6 worker processes in total. Our suggested max number of worker in current system is 2, which is smaller than what this DataLoader is going to create. Please be aware that excessive worker creation might get DataLoader running slow or even freeze, lower the worker number to avoid potential slowness/freeze if necessary.\n",
            "  cpuset_checked))\n"
          ],
          "name": "stderr"
        }
      ]
    },
    {
      "cell_type": "code",
      "metadata": {
        "id": "tbtBCCHnMYMl"
      },
      "source": [
        "n_epochs = 5\n",
        "model.apply(initWeight)\n",
        "def train_model(model, train_loader,valid_loader,lossfunc, optimizer,n_epochs):\n",
        "    LOSS_train = []\n",
        "    LOSS_valid = []\n",
        "    ACC = []\n",
        "    for epoch in range(n_epochs):\n",
        "        COST = 0\n",
        "        for x, y in train_loader:\n",
        "            optimizer.zero_grad()\n",
        "            yhat = model(x)\n",
        "            loss = lossfunc(yhat, y)\n",
        "            loss.backward()\n",
        "            optimizer.step()\n",
        "            COST+=loss \n",
        "        LOSS_train.append(COST)\n",
        "\n",
        "        correct = 0\n",
        "        COST_valid = 0\n",
        "        for x_test, y_test in valid_loader:\n",
        "            z = model(x_test)\n",
        "            COST_valid+= lossfunc(z, y_test)\n",
        "            _,yhat = torch.max(z.data, 1)\n",
        "            correct+=(yhat==y_test).sum().item()\n",
        "        accuracy = correct/len(data['valid'])\n",
        "        ACC.append(accuracy)\n",
        "        LOSS_valid.append(COST_valid)\n",
        "\n",
        "    return LOSS_train, LOSS_valid, ACC"
      ],
      "execution_count": 17,
      "outputs": []
    },
    {
      "cell_type": "code",
      "metadata": {
        "colab": {
          "base_uri": "https://localhost:8080/"
        },
        "id": "MsRl4qUPNaDp",
        "outputId": "59bfc8b2-7b80-44df-c9ac-739c74246758"
      },
      "source": [
        "LOSS_train, LOSS_valid, ACC = train_model(model, train_loader,valid_loader,lossfunc, optimizer,n_epochs)"
      ],
      "execution_count": 18,
      "outputs": [
        {
          "output_type": "stream",
          "text": [
            "/usr/local/lib/python3.7/dist-packages/torch/utils/data/dataloader.py:477: UserWarning: This DataLoader will create 6 worker processes in total. Our suggested max number of worker in current system is 2, which is smaller than what this DataLoader is going to create. Please be aware that excessive worker creation might get DataLoader running slow or even freeze, lower the worker number to avoid potential slowness/freeze if necessary.\n",
            "  cpuset_checked))\n"
          ],
          "name": "stderr"
        }
      ]
    },
    {
      "cell_type": "code",
      "metadata": {
        "colab": {
          "base_uri": "https://localhost:8080/"
        },
        "id": "rNDLdOnvNcsk",
        "outputId": "bc6f5c1d-d653-43ca-bbab-a1c1bee045bb"
      },
      "source": [
        "print(LOSS_train)"
      ],
      "execution_count": 19,
      "outputs": [
        {
          "output_type": "stream",
          "text": [
            "[tensor(84.3016, grad_fn=<AddBackward0>), tensor(19.3551, grad_fn=<AddBackward0>), tensor(14.1332, grad_fn=<AddBackward0>), tensor(11.3101, grad_fn=<AddBackward0>), tensor(9.2219, grad_fn=<AddBackward0>)]\n"
          ],
          "name": "stdout"
        }
      ]
    },
    {
      "cell_type": "code",
      "metadata": {
        "colab": {
          "base_uri": "https://localhost:8080/"
        },
        "id": "8k9grCKdP5DB",
        "outputId": "a9d5c6d8-de3a-4f81-d1bb-03dd53887e2a"
      },
      "source": [
        "print(ACC)"
      ],
      "execution_count": 20,
      "outputs": [
        {
          "output_type": "stream",
          "text": [
            "[0.956, 0.96825, 0.9743333333333334, 0.9793333333333333, 0.9821666666666666]\n"
          ],
          "name": "stdout"
        }
      ]
    },
    {
      "cell_type": "code",
      "metadata": {
        "colab": {
          "base_uri": "https://localhost:8080/",
          "height": 297
        },
        "id": "AXZ_lb9_P6Po",
        "outputId": "f91619d2-dca3-4996-b554-33c0199d47f4"
      },
      "source": [
        "# Plot the loss and accuracy\n",
        "\n",
        "fig, ax1 = plt.subplots()\n",
        "color = 'tab:red'\n",
        "color1 = 'tab:gray'\n",
        "ax1.plot(LOSS_train, color=color)\n",
        "ax1.plot(LOSS_valid, color=color1)\n",
        "ax1.set_xlabel('epoch', color=color)\n",
        "ax1.set_ylabel('Cost', color=color)\n",
        "ax1.tick_params(axis='y', color=color)\n",
        "    \n",
        "ax2 = ax1.twinx()  \n",
        "color = 'tab:blue'\n",
        "ax2.set_ylabel('accuracy', color=color) \n",
        "ax2.set_xlabel('epoch', color=color)\n",
        "ax2.plot( ACC, color=color)\n",
        "ax2.tick_params(axis='y', color=color)\n",
        "fig.tight_layout()\n",
        "\n",
        "plt.show()"
      ],
      "execution_count": 21,
      "outputs": [
        {
          "output_type": "display_data",
          "data": {
            "image/png": "[encoded data removed]",
            "text/plain": [
              "<Figure size 432x288 with 2 Axes>"
            ]
          },
          "metadata": {
            "tags": [],
            "needs_background": "light"
          }
        }
      ]
    },
    {
      "cell_type": "code",
      "metadata": {
        "id": "1YKhPuiVQGFo"
      },
      "source": [
        "test_error = [(1 - x)*100 for x in ACC]"
      ],
      "execution_count": 22,
      "outputs": []
    },
    {
      "cell_type": "code",
      "metadata": {
        "colab": {
          "base_uri": "https://localhost:8080/"
        },
        "id": "7SbwQ9UlSeiy",
        "outputId": "b406e5a9-6062-499f-9a19-8bb9c366a037"
      },
      "source": [
        "test_error"
      ],
      "execution_count": 23,
      "outputs": [
        {
          "output_type": "execute_result",
          "data": {
            "text/plain": [
              "[4.400000000000004,\n",
              " 3.1749999999999945,\n",
              " 2.5666666666666615,\n",
              " 2.066666666666672,\n",
              " 1.7833333333333368]"
            ]
          },
          "metadata": {
            "tags": []
          },
          "execution_count": 23
        }
      ]
    },
    {
      "cell_type": "markdown",
      "metadata": {
        "id": "LIWAKBgOZSnD"
      },
      "source": [
        "train all models and save the best models "
      ]
    },
    {
      "cell_type": "code",
      "metadata": {
        "id": "ty0xBKhZXZcF"
      },
      "source": [
        "TARGET_SIZE = [29, 27, 25, 21, 29,27, 15]"
      ],
      "execution_count": 24,
      "outputs": []
    },
    {
      "cell_type": "code",
      "metadata": {
        "colab": {
          "base_uri": "https://localhost:8080/"
        },
        "id": "aZnTvmi7a5tq",
        "outputId": "0ec69252-ce7a-4456-b9e5-1de1eb39da18"
      },
      "source": [
        "t = 10\n",
        "t1 = 20\n",
        "t2 = 30\n",
        "d = dict(t1 = 1, t2 = 2, t3 = 3)\n",
        "d"
      ],
      "execution_count": 25,
      "outputs": [
        {
          "output_type": "execute_result",
          "data": {
            "text/plain": [
              "{'t1': 1, 't2': 2, 't3': 3}"
            ]
          },
          "metadata": {
            "tags": []
          },
          "execution_count": 25
        }
      ]
    },
    {
      "cell_type": "code",
      "metadata": {
        "colab": {
          "base_uri": "https://localhost:8080/"
        },
        "id": "PpWvQ2d6bGLz",
        "outputId": "322d86e8-8751-4a56-8688-5dc304e3c57f"
      },
      "source": [
        "d = dict()\n",
        "for t in TARGET_SIZE:\n",
        "    d[t] = []\n",
        "    for j in range(5):\n",
        "        d[t].append(j)\n",
        "\n",
        "d[15]\n",
        "d[29]"
      ],
      "execution_count": 26,
      "outputs": [
        {
          "output_type": "execute_result",
          "data": {
            "text/plain": [
              "[0, 1, 2, 3, 4]"
            ]
          },
          "metadata": {
            "tags": []
          },
          "execution_count": 26
        }
      ]
    },
    {
      "cell_type": "code",
      "metadata": {
        "id": "oa8fCR2QZfbR"
      },
      "source": [
        "LOSS_TRAIN = dict()\n",
        "LOSS_VALID = dict()\n",
        "ACCURACY = dict()\n",
        "for target_size in TARGET_SIZE:\n",
        "    #initial loss_train, loss_valid, accuracy\n",
        "    LOSS_TRAIN[target_size] = []\n",
        "    LOSS_VALID[target_size] = []\n",
        "    ACCURACY[target_size] = []\n",
        "    for column in range(5):\n",
        "        model = MCDNN()\n",
        "        model.apply(initWeight)\n",
        "        data = get_datasets(target_size)\n",
        "        lossfunc = nn.CrossEntropyLoss()\n",
        "        learning_rate = 1e-3\n",
        "        optimizer = torch.optim.Adam(model.parameters(), lr = learning_rate)\n",
        "        train_loader = DataLoader(dataset=data['train'], batch_size=256, shuffle=True)\n",
        "        valid_loader = DataLoader(dataset=data['valid'], batch_size=128, shuffle=False)\n",
        "        # test_loader = DataLoader(dataset = data['test'], batch_size=32, shuffle=False, num_workers=6)\n",
        "        epochs = 5\n",
        "        #train model where epochs = 5\n",
        "        LOSS_train, LOSS_valid, ACC = train_model(model, train_loader,valid_loader,lossfunc, optimizer,n_epochs)\n",
        "        # append model to dict index target_size\n",
        "        LOSS_TRAIN[target_size].append(LOSS_train)\n",
        "        LOSS_VALID[target_size].append(LOSS_valid)\n",
        "        ACCURACY[target_size].append(ACC)\n"
      ],
      "execution_count": null,
      "outputs": []
    },
    {
      "cell_type": "code",
      "metadata": {
        "id": "kAhGeK7ccv-d"
      },
      "source": [
        ""
      ],
      "execution_count": null,
      "outputs": []
    }
  ]
}